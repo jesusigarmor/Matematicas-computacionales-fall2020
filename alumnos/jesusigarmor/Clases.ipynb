{
 "cells": [
  {
   "cell_type": "markdown",
   "metadata": {},
   "source": [
    "jueves 10 de septiembre del 2020\n",
    "\n",
    "## Numpy\n",
    "\n",
    "Libreria de computo cientifico de python. *Es la base de pandas\n",
    "\n",
    "El elemento principal de numpy son los arrays:\n",
    "- Solo puede contener un tipo de dato.\n",
    "- "
   ]
  },
  {
   "cell_type": "markdown",
   "metadata": {},
   "source": [
    "martes 29 de septiembre del 2020\n",
    "\n",
    "## Montecarlo\n",
    "\n",
    "- "
   ]
  },
  {
   "cell_type": "markdown",
   "metadata": {},
   "source": [
    "jueves 5 de noviembre del 2020\n",
    "\n"
   ]
  },
  {
   "cell_type": "markdown",
   "metadata": {},
   "source": [
    "# Agentes"
   ]
  },
  {
   "cell_type": "markdown",
   "metadata": {},
   "source": [
    "martes 10 de noviembre del 2020"
   ]
  },
  {
   "cell_type": "markdown",
   "metadata": {},
   "source": [
    "# Eco\n",
    "\n",
    "- Esta es una función inherente a python que modifica la manera de imprimir un objeto\n",
    "def __repr__(self):\n",
    "        return \"<Productor %d> oferta: %d, precio: %d\" % (self.id, self.oferta, self.precio)\n"
   ]
  },
  {
   "cell_type": "code",
   "execution_count": null,
   "metadata": {},
   "outputs": [],
   "source": []
  }
 ],
 "metadata": {
  "kernelspec": {
   "display_name": "Python 3",
   "language": "python",
   "name": "python3"
  },
  "language_info": {
   "codemirror_mode": {
    "name": "ipython",
    "version": 3
   },
   "file_extension": ".py",
   "mimetype": "text/x-python",
   "name": "python",
   "nbconvert_exporter": "python",
   "pygments_lexer": "ipython3",
   "version": "3.8.5"
  }
 },
 "nbformat": 4,
 "nbformat_minor": 4
}
