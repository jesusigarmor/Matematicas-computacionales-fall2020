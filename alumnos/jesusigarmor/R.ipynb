{
 "cells": [
  {
   "cell_type": "markdown",
   "metadata": {},
   "source": [
    "# R\n",
    "\n"
   ]
  },
  {
   "cell_type": "markdown",
   "metadata": {},
   "source": [
    "## Declaracion, vectores "
   ]
  },
  {
   "cell_type": "code",
   "execution_count": 7,
   "metadata": {},
   "outputs": [
    {
     "data": {
      "text/html": [
       "<style>\n",
       ".list-inline {list-style: none; margin:0; padding: 0}\n",
       ".list-inline>li {display: inline-block}\n",
       ".list-inline>li:not(:last-child)::after {content: \"\\00b7\"; padding: 0 .5ex}\n",
       "</style>\n",
       "<ol class=list-inline><li>1</li><li>2</li><li>3</li><li>4</li><li>5</li><li>6</li><li>7</li><li>8</li><li>9</li><li>10</li></ol>\n"
      ],
      "text/latex": [
       "\\begin{enumerate*}\n",
       "\\item 1\n",
       "\\item 2\n",
       "\\item 3\n",
       "\\item 4\n",
       "\\item 5\n",
       "\\item 6\n",
       "\\item 7\n",
       "\\item 8\n",
       "\\item 9\n",
       "\\item 10\n",
       "\\end{enumerate*}\n"
      ],
      "text/markdown": [
       "1. 1\n",
       "2. 2\n",
       "3. 3\n",
       "4. 4\n",
       "5. 5\n",
       "6. 6\n",
       "7. 7\n",
       "8. 8\n",
       "9. 9\n",
       "10. 10\n",
       "\n",
       "\n"
      ],
      "text/plain": [
       " [1]  1  2  3  4  5  6  7  8  9 10"
      ]
     },
     "metadata": {},
     "output_type": "display_data"
    },
    {
     "data": {
      "text/html": [
       "1"
      ],
      "text/latex": [
       "1"
      ],
      "text/markdown": [
       "1"
      ],
      "text/plain": [
       "[1] 1"
      ]
     },
     "metadata": {},
     "output_type": "display_data"
    },
    {
     "data": {
      "text/html": [
       "<style>\n",
       ".list-inline {list-style: none; margin:0; padding: 0}\n",
       ".list-inline>li {display: inline-block}\n",
       ".list-inline>li:not(:last-child)::after {content: \"\\00b7\"; padding: 0 .5ex}\n",
       "</style>\n",
       "<ol class=list-inline><li>TRUE</li><li>TRUE</li><li>TRUE</li><li>TRUE</li><li>TRUE</li><li>TRUE</li><li>TRUE</li><li>TRUE</li><li>TRUE</li><li>TRUE</li></ol>\n"
      ],
      "text/latex": [
       "\\begin{enumerate*}\n",
       "\\item TRUE\n",
       "\\item TRUE\n",
       "\\item TRUE\n",
       "\\item TRUE\n",
       "\\item TRUE\n",
       "\\item TRUE\n",
       "\\item TRUE\n",
       "\\item TRUE\n",
       "\\item TRUE\n",
       "\\item TRUE\n",
       "\\end{enumerate*}\n"
      ],
      "text/markdown": [
       "1. TRUE\n",
       "2. TRUE\n",
       "3. TRUE\n",
       "4. TRUE\n",
       "5. TRUE\n",
       "6. TRUE\n",
       "7. TRUE\n",
       "8. TRUE\n",
       "9. TRUE\n",
       "10. TRUE\n",
       "\n",
       "\n"
      ],
      "text/plain": [
       " [1] TRUE TRUE TRUE TRUE TRUE TRUE TRUE TRUE TRUE TRUE"
      ]
     },
     "metadata": {},
     "output_type": "display_data"
    },
    {
     "data": {
      "text/html": [
       "<style>\n",
       ".list-inline {list-style: none; margin:0; padding: 0}\n",
       ".list-inline>li {display: inline-block}\n",
       ".list-inline>li:not(:last-child)::after {content: \"\\00b7\"; padding: 0 .5ex}\n",
       "</style>\n",
       "<ol class=list-inline><li>3</li><li>6</li><li>9</li><li>12</li><li>15</li><li>18</li><li>21</li><li>24</li><li>27</li><li>30</li></ol>\n"
      ],
      "text/latex": [
       "\\begin{enumerate*}\n",
       "\\item 3\n",
       "\\item 6\n",
       "\\item 9\n",
       "\\item 12\n",
       "\\item 15\n",
       "\\item 18\n",
       "\\item 21\n",
       "\\item 24\n",
       "\\item 27\n",
       "\\item 30\n",
       "\\end{enumerate*}\n"
      ],
      "text/markdown": [
       "1. 3\n",
       "2. 6\n",
       "3. 9\n",
       "4. 12\n",
       "5. 15\n",
       "6. 18\n",
       "7. 21\n",
       "8. 24\n",
       "9. 27\n",
       "10. 30\n",
       "\n",
       "\n"
      ],
      "text/plain": [
       " [1]  3  6  9 12 15 18 21 24 27 30"
      ]
     },
     "metadata": {},
     "output_type": "display_data"
    },
    {
     "data": {
      "text/html": [
       "<style>\n",
       ".list-inline {list-style: none; margin:0; padding: 0}\n",
       ".list-inline>li {display: inline-block}\n",
       ".list-inline>li:not(:last-child)::after {content: \"\\00b7\"; padding: 0 .5ex}\n",
       "</style>\n",
       "<ol class=list-inline><li>3</li><li>4</li><li>5</li><li>6</li><li>7</li><li>8</li><li>9</li><li>10</li></ol>\n"
      ],
      "text/latex": [
       "\\begin{enumerate*}\n",
       "\\item 3\n",
       "\\item 4\n",
       "\\item 5\n",
       "\\item 6\n",
       "\\item 7\n",
       "\\item 8\n",
       "\\item 9\n",
       "\\item 10\n",
       "\\end{enumerate*}\n"
      ],
      "text/markdown": [
       "1. 3\n",
       "2. 4\n",
       "3. 5\n",
       "4. 6\n",
       "5. 7\n",
       "6. 8\n",
       "7. 9\n",
       "8. 10\n",
       "\n",
       "\n"
      ],
      "text/plain": [
       "[1]  3  4  5  6  7  8  9 10"
      ]
     },
     "metadata": {},
     "output_type": "display_data"
    }
   ],
   "source": [
    "vector <- 1:10\n",
    "vector\n",
    "vector[1]\n",
    "vector > 0 #operacion vectorizada \n",
    "vector*3 #otro ejemplo de operacion vectorizada\n",
    "vector[vector > 2]"
   ]
  },
  {
   "cell_type": "markdown",
   "metadata": {},
   "source": [
    "## Factores"
   ]
  },
  {
   "cell_type": "code",
   "execution_count": 15,
   "metadata": {},
   "outputs": [
    {
     "data": {
      "text/html": [
       "<style>\n",
       ".list-inline {list-style: none; margin:0; padding: 0}\n",
       ".list-inline>li {display: inline-block}\n",
       ".list-inline>li:not(:last-child)::after {content: \"\\00b7\"; padding: 0 .5ex}\n",
       "</style>\n",
       "<ol class=list-inline><li>M</li><li>F</li><li>M</li><li>M</li><li>F</li><li>M</li><li>F</li></ol>\n",
       "\n",
       "<details>\n",
       "\t<summary style=display:list-item;cursor:pointer>\n",
       "\t\t<strong>Levels</strong>:\n",
       "\t</summary>\n",
       "\t<style>\n",
       "\t.list-inline {list-style: none; margin:0; padding: 0}\n",
       "\t.list-inline>li {display: inline-block}\n",
       "\t.list-inline>li:not(:last-child)::after {content: \"\\00b7\"; padding: 0 .5ex}\n",
       "\t</style>\n",
       "\t<ol class=list-inline><li>'F'</li><li>'M'</li></ol>\n",
       "</details>"
      ],
      "text/latex": [
       "\\begin{enumerate*}\n",
       "\\item M\n",
       "\\item F\n",
       "\\item M\n",
       "\\item M\n",
       "\\item F\n",
       "\\item M\n",
       "\\item F\n",
       "\\end{enumerate*}\n",
       "\n",
       "\\emph{Levels}: \\begin{enumerate*}\n",
       "\\item 'F'\n",
       "\\item 'M'\n",
       "\\end{enumerate*}\n"
      ],
      "text/markdown": [
       "1. M\n",
       "2. F\n",
       "3. M\n",
       "4. M\n",
       "5. F\n",
       "6. M\n",
       "7. F\n",
       "\n",
       "\n",
       "\n",
       "**Levels**: 1. 'F'\n",
       "2. 'M'\n",
       "\n",
       "\n"
      ],
      "text/plain": [
       "[1] M F M M F M F\n",
       "Levels: F M"
      ]
     },
     "metadata": {},
     "output_type": "display_data"
    }
   ],
   "source": [
    "f <- c(\"M\",\"F\",\"M\",\"M\",\"F\",\"M\",\"F\")\n",
    "f <- factor(f)\n",
    "f"
   ]
  },
  {
   "cell_type": "code",
   "execution_count": 16,
   "metadata": {},
   "outputs": [
    {
     "data": {
      "text/html": [
       "<style>\n",
       ".list-inline {list-style: none; margin:0; padding: 0}\n",
       ".list-inline>li {display: inline-block}\n",
       ".list-inline>li:not(:last-child)::after {content: \"\\00b7\"; padding: 0 .5ex}\n",
       "</style>\n",
       "<ol class=list-inline><li>Hombre</li><li>Mujer</li><li>Hombre</li><li>Hombre</li><li>Mujer</li><li>Hombre</li><li>Mujer</li></ol>\n",
       "\n",
       "<details>\n",
       "\t<summary style=display:list-item;cursor:pointer>\n",
       "\t\t<strong>Levels</strong>:\n",
       "\t</summary>\n",
       "\t<style>\n",
       "\t.list-inline {list-style: none; margin:0; padding: 0}\n",
       "\t.list-inline>li {display: inline-block}\n",
       "\t.list-inline>li:not(:last-child)::after {content: \"\\00b7\"; padding: 0 .5ex}\n",
       "\t</style>\n",
       "\t<ol class=list-inline><li>'Hombre'</li><li>'Mujer'</li></ol>\n",
       "</details>"
      ],
      "text/latex": [
       "\\begin{enumerate*}\n",
       "\\item Hombre\n",
       "\\item Mujer\n",
       "\\item Hombre\n",
       "\\item Hombre\n",
       "\\item Mujer\n",
       "\\item Hombre\n",
       "\\item Mujer\n",
       "\\end{enumerate*}\n",
       "\n",
       "\\emph{Levels}: \\begin{enumerate*}\n",
       "\\item 'Hombre'\n",
       "\\item 'Mujer'\n",
       "\\end{enumerate*}\n"
      ],
      "text/markdown": [
       "1. Hombre\n",
       "2. Mujer\n",
       "3. Hombre\n",
       "4. Hombre\n",
       "5. Mujer\n",
       "6. Hombre\n",
       "7. Mujer\n",
       "\n",
       "\n",
       "\n",
       "**Levels**: 1. 'Hombre'\n",
       "2. 'Mujer'\n",
       "\n",
       "\n"
      ],
      "text/plain": [
       "[1] Hombre Mujer  Hombre Hombre Mujer  Hombre Mujer \n",
       "Levels: Hombre Mujer"
      ]
     },
     "metadata": {},
     "output_type": "display_data"
    }
   ],
   "source": [
    "f <- factor(c(\"M\",\"F\",\"M\",\"M\",\"F\",\"M\",\"F\"),levels=c(\"M\",\"F\"),labels=c(\"Hombre\",\"Mujer\"))\n",
    "f"
   ]
  },
  {
   "cell_type": "code",
   "execution_count": 17,
   "metadata": {},
   "outputs": [
    {
     "data": {
      "text/html": [
       "<style>\n",
       ".list-inline {list-style: none; margin:0; padding: 0}\n",
       ".list-inline>li {display: inline-block}\n",
       ".list-inline>li:not(:last-child)::after {content: \"\\00b7\"; padding: 0 .5ex}\n",
       "</style>\n",
       "<ol class=list-inline><li>'Hombre'</li><li>'Mujer'</li></ol>\n"
      ],
      "text/latex": [
       "\\begin{enumerate*}\n",
       "\\item 'Hombre'\n",
       "\\item 'Mujer'\n",
       "\\end{enumerate*}\n"
      ],
      "text/markdown": [
       "1. 'Hombre'\n",
       "2. 'Mujer'\n",
       "\n",
       "\n"
      ],
      "text/plain": [
       "[1] \"Hombre\" \"Mujer\" "
      ]
     },
     "metadata": {},
     "output_type": "display_data"
    }
   ],
   "source": [
    "levels(f)"
   ]
  },
  {
   "cell_type": "code",
   "execution_count": 18,
   "metadata": {},
   "outputs": [
    {
     "data": {
      "text/plain": [
       "f\n",
       "Hombre  Mujer \n",
       "     4      3 "
      ]
     },
     "metadata": {},
     "output_type": "display_data"
    }
   ],
   "source": [
    "table(f)"
   ]
  },
  {
   "cell_type": "code",
   "execution_count": 20,
   "metadata": {},
   "outputs": [
    {
     "data": {
      "text/plain": [
       "            f\n",
       "a            Hombre Mujer\n",
       "  estudiante      3     2\n",
       "  profesor        1     1"
      ]
     },
     "metadata": {},
     "output_type": "display_data"
    }
   ],
   "source": [
    "a <- factor(c(\"es\",\"pr\",\"es\",\"pr\",\"es\",\"es\",\"es\"),levels=c(\"es\",\"pr\"),labels=c(\"estudiante\",\"profesor\"))\n",
    "t <- table(a,f)\n",
    "t"
   ]
  },
  {
   "cell_type": "code",
   "execution_count": 21,
   "metadata": {},
   "outputs": [
    {
     "data": {
      "text/plain": [
       "            f\n",
       "a               Hombre     Mujer\n",
       "  estudiante 0.7500000 0.6666667\n",
       "  profesor   0.2500000 0.3333333"
      ]
     },
     "metadata": {},
     "output_type": "display_data"
    }
   ],
   "source": [
    "prop.table(t,2) #tabla de proporcion "
   ]
  },
  {
   "cell_type": "markdown",
   "metadata": {},
   "source": [
    "## Dataframes"
   ]
  },
  {
   "cell_type": "code",
   "execution_count": 22,
   "metadata": {},
   "outputs": [
    {
     "data": {
      "text/html": [
       "<table>\n",
       "<caption>A data.frame: 4 × 3</caption>\n",
       "<thead>\n",
       "\t<tr><th scope=col>var.1</th><th scope=col>var.2</th><th scope=col>var.3</th></tr>\n",
       "\t<tr><th scope=col>&lt;fct&gt;</th><th scope=col>&lt;fct&gt;</th><th scope=col>&lt;dbl&gt;</th></tr>\n",
       "</thead>\n",
       "<tbody>\n",
       "\t<tr><td>A</td><td>h</td><td>1.0</td></tr>\n",
       "\t<tr><td>B</td><td>a</td><td>2.0</td></tr>\n",
       "\t<tr><td>C</td><td>u</td><td>3.0</td></tr>\n",
       "\t<tr><td>A</td><td>p</td><td>4.5</td></tr>\n",
       "</tbody>\n",
       "</table>\n"
      ],
      "text/latex": [
       "A data.frame: 4 × 3\n",
       "\\begin{tabular}{lll}\n",
       " var.1 & var.2 & var.3\\\\\n",
       " <fct> & <fct> & <dbl>\\\\\n",
       "\\hline\n",
       "\t A & h & 1.0\\\\\n",
       "\t B & a & 2.0\\\\\n",
       "\t C & u & 3.0\\\\\n",
       "\t A & p & 4.5\\\\\n",
       "\\end{tabular}\n"
      ],
      "text/markdown": [
       "\n",
       "A data.frame: 4 × 3\n",
       "\n",
       "| var.1 &lt;fct&gt; | var.2 &lt;fct&gt; | var.3 &lt;dbl&gt; |\n",
       "|---|---|---|\n",
       "| A | h | 1.0 |\n",
       "| B | a | 2.0 |\n",
       "| C | u | 3.0 |\n",
       "| A | p | 4.5 |\n",
       "\n"
      ],
      "text/plain": [
       "  var.1 var.2 var.3\n",
       "1 A     h     1.0  \n",
       "2 B     a     2.0  \n",
       "3 C     u     3.0  \n",
       "4 A     p     4.5  "
      ]
     },
     "metadata": {},
     "output_type": "display_data"
    }
   ],
   "source": [
    "df <- data.frame(\n",
    "        var.1=c('A','B','C','A'),\n",
    "        var.2=c('h','a','u','p'),\n",
    "        var.3=c(1,2,3,4.5))\n",
    "df"
   ]
  },
  {
   "cell_type": "code",
   "execution_count": 23,
   "metadata": {},
   "outputs": [
    {
     "data": {
      "text/html": [
       "C\n",
       "<details>\n",
       "\t<summary style=display:list-item;cursor:pointer>\n",
       "\t\t<strong>Levels</strong>:\n",
       "\t</summary>\n",
       "\t<style>\n",
       "\t.list-inline {list-style: none; margin:0; padding: 0}\n",
       "\t.list-inline>li {display: inline-block}\n",
       "\t.list-inline>li:not(:last-child)::after {content: \"\\00b7\"; padding: 0 .5ex}\n",
       "\t</style>\n",
       "\t<ol class=list-inline><li>'A'</li><li>'B'</li><li>'C'</li></ol>\n",
       "</details>"
      ],
      "text/latex": [
       "C\n",
       "\\emph{Levels}: \\begin{enumerate*}\n",
       "\\item 'A'\n",
       "\\item 'B'\n",
       "\\item 'C'\n",
       "\\end{enumerate*}\n"
      ],
      "text/markdown": [
       "C\n",
       "**Levels**: 1. 'A'\n",
       "2. 'B'\n",
       "3. 'C'\n",
       "\n",
       "\n"
      ],
      "text/plain": [
       "[1] C\n",
       "Levels: A B C"
      ]
     },
     "metadata": {},
     "output_type": "display_data"
    }
   ],
   "source": [
    "df[3,1]"
   ]
  },
  {
   "cell_type": "code",
   "execution_count": 24,
   "metadata": {},
   "outputs": [
    {
     "data": {
      "text/html": [
       "<table>\n",
       "<caption>A data.frame: 1 × 3</caption>\n",
       "<thead>\n",
       "\t<tr><th></th><th scope=col>var.1</th><th scope=col>var.2</th><th scope=col>var.3</th></tr>\n",
       "\t<tr><th></th><th scope=col>&lt;fct&gt;</th><th scope=col>&lt;fct&gt;</th><th scope=col>&lt;dbl&gt;</th></tr>\n",
       "</thead>\n",
       "<tbody>\n",
       "\t<tr><th scope=row>3</th><td>C</td><td>u</td><td>3</td></tr>\n",
       "</tbody>\n",
       "</table>\n"
      ],
      "text/latex": [
       "A data.frame: 1 × 3\n",
       "\\begin{tabular}{r|lll}\n",
       "  & var.1 & var.2 & var.3\\\\\n",
       "  & <fct> & <fct> & <dbl>\\\\\n",
       "\\hline\n",
       "\t3 & C & u & 3\\\\\n",
       "\\end{tabular}\n"
      ],
      "text/markdown": [
       "\n",
       "A data.frame: 1 × 3\n",
       "\n",
       "| <!--/--> | var.1 &lt;fct&gt; | var.2 &lt;fct&gt; | var.3 &lt;dbl&gt; |\n",
       "|---|---|---|---|\n",
       "| 3 | C | u | 3 |\n",
       "\n"
      ],
      "text/plain": [
       "  var.1 var.2 var.3\n",
       "3 C     u     3    "
      ]
     },
     "metadata": {},
     "output_type": "display_data"
    }
   ],
   "source": [
    "df[3,]"
   ]
  },
  {
   "cell_type": "code",
   "execution_count": 25,
   "metadata": {},
   "outputs": [
    {
     "data": {
      "text/html": [
       "<style>\n",
       ".list-inline {list-style: none; margin:0; padding: 0}\n",
       ".list-inline>li {display: inline-block}\n",
       ".list-inline>li:not(:last-child)::after {content: \"\\00b7\"; padding: 0 .5ex}\n",
       "</style>\n",
       "<ol class=list-inline><li>1</li><li>2</li><li>3</li><li>4.5</li></ol>\n"
      ],
      "text/latex": [
       "\\begin{enumerate*}\n",
       "\\item 1\n",
       "\\item 2\n",
       "\\item 3\n",
       "\\item 4.5\n",
       "\\end{enumerate*}\n"
      ],
      "text/markdown": [
       "1. 1\n",
       "2. 2\n",
       "3. 3\n",
       "4. 4.5\n",
       "\n",
       "\n"
      ],
      "text/plain": [
       "[1] 1.0 2.0 3.0 4.5"
      ]
     },
     "metadata": {},
     "output_type": "display_data"
    }
   ],
   "source": [
    "df[,3]"
   ]
  },
  {
   "cell_type": "code",
   "execution_count": 26,
   "metadata": {},
   "outputs": [
    {
     "data": {
      "text/html": [
       "<table>\n",
       "<caption>A data.frame: 4 × 1</caption>\n",
       "<thead>\n",
       "\t<tr><th scope=col>var.3</th></tr>\n",
       "\t<tr><th scope=col>&lt;dbl&gt;</th></tr>\n",
       "</thead>\n",
       "<tbody>\n",
       "\t<tr><td>1.0</td></tr>\n",
       "\t<tr><td>2.0</td></tr>\n",
       "\t<tr><td>3.0</td></tr>\n",
       "\t<tr><td>4.5</td></tr>\n",
       "</tbody>\n",
       "</table>\n"
      ],
      "text/latex": [
       "A data.frame: 4 × 1\n",
       "\\begin{tabular}{l}\n",
       " var.3\\\\\n",
       " <dbl>\\\\\n",
       "\\hline\n",
       "\t 1.0\\\\\n",
       "\t 2.0\\\\\n",
       "\t 3.0\\\\\n",
       "\t 4.5\\\\\n",
       "\\end{tabular}\n"
      ],
      "text/markdown": [
       "\n",
       "A data.frame: 4 × 1\n",
       "\n",
       "| var.3 &lt;dbl&gt; |\n",
       "|---|\n",
       "| 1.0 |\n",
       "| 2.0 |\n",
       "| 3.0 |\n",
       "| 4.5 |\n",
       "\n"
      ],
      "text/plain": [
       "  var.3\n",
       "1 1.0  \n",
       "2 2.0  \n",
       "3 3.0  \n",
       "4 4.5  "
      ]
     },
     "metadata": {},
     "output_type": "display_data"
    }
   ],
   "source": [
    "df['var.3']"
   ]
  },
  {
   "cell_type": "code",
   "execution_count": 27,
   "metadata": {},
   "outputs": [
    {
     "data": {
      "text/html": [
       "<table>\n",
       "<caption>A data.frame: 2 × 3</caption>\n",
       "<thead>\n",
       "\t<tr><th></th><th scope=col>var.1</th><th scope=col>var.2</th><th scope=col>var.3</th></tr>\n",
       "\t<tr><th></th><th scope=col>&lt;fct&gt;</th><th scope=col>&lt;fct&gt;</th><th scope=col>&lt;dbl&gt;</th></tr>\n",
       "</thead>\n",
       "<tbody>\n",
       "\t<tr><th scope=row>3</th><td>C</td><td>u</td><td>3.0</td></tr>\n",
       "\t<tr><th scope=row>4</th><td>A</td><td>p</td><td>4.5</td></tr>\n",
       "</tbody>\n",
       "</table>\n"
      ],
      "text/latex": [
       "A data.frame: 2 × 3\n",
       "\\begin{tabular}{r|lll}\n",
       "  & var.1 & var.2 & var.3\\\\\n",
       "  & <fct> & <fct> & <dbl>\\\\\n",
       "\\hline\n",
       "\t3 & C & u & 3.0\\\\\n",
       "\t4 & A & p & 4.5\\\\\n",
       "\\end{tabular}\n"
      ],
      "text/markdown": [
       "\n",
       "A data.frame: 2 × 3\n",
       "\n",
       "| <!--/--> | var.1 &lt;fct&gt; | var.2 &lt;fct&gt; | var.3 &lt;dbl&gt; |\n",
       "|---|---|---|---|\n",
       "| 3 | C | u | 3.0 |\n",
       "| 4 | A | p | 4.5 |\n",
       "\n"
      ],
      "text/plain": [
       "  var.1 var.2 var.3\n",
       "3 C     u     3.0  \n",
       "4 A     p     4.5  "
      ]
     },
     "metadata": {},
     "output_type": "display_data"
    }
   ],
   "source": [
    "df[df$var.3 > 2,]\n"
   ]
  },
  {
   "cell_type": "code",
   "execution_count": 30,
   "metadata": {},
   "outputs": [
    {
     "data": {
      "text/html": [
       "<style>\n",
       ".list-inline {list-style: none; margin:0; padding: 0}\n",
       ".list-inline>li {display: inline-block}\n",
       ".list-inline>li:not(:last-child)::after {content: \"\\00b7\"; padding: 0 .5ex}\n",
       "</style>\n",
       "<ol class=list-inline><li>1</li><li>4.5</li></ol>\n"
      ],
      "text/latex": [
       "\\begin{enumerate*}\n",
       "\\item 1\n",
       "\\item 4.5\n",
       "\\end{enumerate*}\n"
      ],
      "text/markdown": [
       "1. 1\n",
       "2. 4.5\n",
       "\n",
       "\n"
      ],
      "text/plain": [
       "[1] 1.0 4.5"
      ]
     },
     "metadata": {},
     "output_type": "display_data"
    }
   ],
   "source": [
    "df[df$var.1==\"A\", \"var.3\"]"
   ]
  },
  {
   "cell_type": "code",
   "execution_count": 31,
   "metadata": {},
   "outputs": [
    {
     "data": {
      "text/html": [
       "<style>\n",
       ".list-inline {list-style: none; margin:0; padding: 0}\n",
       ".list-inline>li {display: inline-block}\n",
       ".list-inline>li:not(:last-child)::after {content: \"\\00b7\"; padding: 0 .5ex}\n",
       "</style>\n",
       "<ol class=list-inline><li>4</li><li>3</li></ol>\n"
      ],
      "text/latex": [
       "\\begin{enumerate*}\n",
       "\\item 4\n",
       "\\item 3\n",
       "\\end{enumerate*}\n"
      ],
      "text/markdown": [
       "1. 4\n",
       "2. 3\n",
       "\n",
       "\n"
      ],
      "text/plain": [
       "[1] 4 3"
      ]
     },
     "metadata": {},
     "output_type": "display_data"
    },
    {
     "data": {
      "text/html": [
       "4"
      ],
      "text/latex": [
       "4"
      ],
      "text/markdown": [
       "4"
      ],
      "text/plain": [
       "[1] 4"
      ]
     },
     "metadata": {},
     "output_type": "display_data"
    },
    {
     "data": {
      "text/html": [
       "3"
      ],
      "text/latex": [
       "3"
      ],
      "text/markdown": [
       "3"
      ],
      "text/plain": [
       "[1] 3"
      ]
     },
     "metadata": {},
     "output_type": "display_data"
    },
    {
     "data": {
      "text/html": [
       "<style>\n",
       ".list-inline {list-style: none; margin:0; padding: 0}\n",
       ".list-inline>li {display: inline-block}\n",
       ".list-inline>li:not(:last-child)::after {content: \"\\00b7\"; padding: 0 .5ex}\n",
       "</style>\n",
       "<ol class=list-inline><li>'var.1'</li><li>'var.2'</li><li>'var.3'</li></ol>\n"
      ],
      "text/latex": [
       "\\begin{enumerate*}\n",
       "\\item 'var.1'\n",
       "\\item 'var.2'\n",
       "\\item 'var.3'\n",
       "\\end{enumerate*}\n"
      ],
      "text/markdown": [
       "1. 'var.1'\n",
       "2. 'var.2'\n",
       "3. 'var.3'\n",
       "\n",
       "\n"
      ],
      "text/plain": [
       "[1] \"var.1\" \"var.2\" \"var.3\""
      ]
     },
     "metadata": {},
     "output_type": "display_data"
    }
   ],
   "source": [
    "dim(df)\n",
    "nrow(df)\n",
    "ncol(df)\n",
    "names(df)"
   ]
  },
  {
   "cell_type": "markdown",
   "metadata": {},
   "source": [
    "## DPLYR"
   ]
  },
  {
   "cell_type": "code",
   "execution_count": 34,
   "metadata": {},
   "outputs": [
    {
     "data": {
      "text/html": [
       "<style>\n",
       ".list-inline {list-style: none; margin:0; padding: 0}\n",
       ".list-inline>li {display: inline-block}\n",
       ".list-inline>li:not(:last-child)::after {content: \"\\00b7\"; padding: 0 .5ex}\n",
       "</style>\n",
       "<ol class=list-inline><li>'tbl_df'</li><li>'tbl'</li><li>'data.frame'</li></ol>\n"
      ],
      "text/latex": [
       "\\begin{enumerate*}\n",
       "\\item 'tbl\\_df'\n",
       "\\item 'tbl'\n",
       "\\item 'data.frame'\n",
       "\\end{enumerate*}\n"
      ],
      "text/markdown": [
       "1. 'tbl_df'\n",
       "2. 'tbl'\n",
       "3. 'data.frame'\n",
       "\n",
       "\n"
      ],
      "text/plain": [
       "[1] \"tbl_df\"     \"tbl\"        \"data.frame\""
      ]
     },
     "metadata": {},
     "output_type": "display_data"
    },
    {
     "name": "stdout",
     "output_type": "stream",
     "text": [
      "tibble [336,776 × 19] (S3: tbl_df/tbl/data.frame)\n",
      " $ year          : int [1:336776] 2013 2013 2013 2013 2013 2013 2013 2013 2013 2013 ...\n",
      " $ month         : int [1:336776] 1 1 1 1 1 1 1 1 1 1 ...\n",
      " $ day           : int [1:336776] 1 1 1 1 1 1 1 1 1 1 ...\n",
      " $ dep_time      : int [1:336776] 517 533 542 544 554 554 555 557 557 558 ...\n",
      " $ sched_dep_time: int [1:336776] 515 529 540 545 600 558 600 600 600 600 ...\n",
      " $ dep_delay     : num [1:336776] 2 4 2 -1 -6 -4 -5 -3 -3 -2 ...\n",
      " $ arr_time      : int [1:336776] 830 850 923 1004 812 740 913 709 838 753 ...\n",
      " $ sched_arr_time: int [1:336776] 819 830 850 1022 837 728 854 723 846 745 ...\n",
      " $ arr_delay     : num [1:336776] 11 20 33 -18 -25 12 19 -14 -8 8 ...\n",
      " $ carrier       : chr [1:336776] \"UA\" \"UA\" \"AA\" \"B6\" ...\n",
      " $ flight        : int [1:336776] 1545 1714 1141 725 461 1696 507 5708 79 301 ...\n",
      " $ tailnum       : chr [1:336776] \"N14228\" \"N24211\" \"N619AA\" \"N804JB\" ...\n",
      " $ origin        : chr [1:336776] \"EWR\" \"LGA\" \"JFK\" \"JFK\" ...\n",
      " $ dest          : chr [1:336776] \"IAH\" \"IAH\" \"MIA\" \"BQN\" ...\n",
      " $ air_time      : num [1:336776] 227 227 160 183 116 150 158 53 140 138 ...\n",
      " $ distance      : num [1:336776] 1400 1416 1089 1576 762 ...\n",
      " $ hour          : num [1:336776] 5 5 5 5 6 5 6 6 6 6 ...\n",
      " $ minute        : num [1:336776] 15 29 40 45 0 58 0 0 0 0 ...\n",
      " $ time_hour     : POSIXct[1:336776], format: \"2013-01-01 05:00:00\" \"2013-01-01 05:00:00\" ...\n"
     ]
    }
   ],
   "source": [
    "if(!require(dplyr, quietly = TRUE, warn.conflicts = FALSE) ){\n",
    "    install.packages('dplyr',\n",
    "        dependencies = TRUE, \n",
    "        repos = \"http://cran.us.r-project.org\")\n",
    "}\n",
    "if(!require(nycflights13, quietly = TRUE, warn.conflicts = FALSE) ){\n",
    "    install.packages('nycflights13', \n",
    "        dependencies = TRUE, \n",
    "        repos = \"http://cran.us.r-project.org\")\n",
    "}\n",
    "\n",
    "library(dplyr)\n",
    "library(nycflights13)\n",
    "#head(flights)\n",
    "#class(flights)\n",
    "#str(flights)"
   ]
  },
  {
   "cell_type": "markdown",
   "metadata": {},
   "source": [
    "### Verbos\n",
    "\n",
    "- filter()\n",
    "- slice()\n",
    "- select()\n",
    "- rename()\n",
    "- distinct()\n",
    "- mutate()\n",
    "- transmute()\n",
    "- summarise()\n",
    "- sample_n()\n",
    "- sample_frac()"
   ]
  },
  {
   "cell_type": "code",
   "execution_count": 53,
   "metadata": {},
   "outputs": [],
   "source": [
    "#filter(flights, month == 10, day == 31)\n",
    "#slice(flights, 1:10)\n",
    "#arrange(flights, year, desc(month), day)\n",
    "#select(flights, year, month, day, carrier,origin,dest)\n",
    "#select(flights,year:day)\n",
    "#rename(flights, mes=month)\n",
    "#distinct(select(flights,origin,dest))\n",
    "#flights %>% mutate(flights,speed=distance/air_time*60,speed2=speed*2) otra forma de escribirlo\n",
    "#mutate(flights,speed=distance/air_time*60,speed2=speed*2)\n",
    "#summarise(flights,delay=mean(dep_delay,na.rm=TRUE))"
   ]
  },
  {
   "cell_type": "markdown",
   "metadata": {},
   "source": [
    "### Agrupaciones"
   ]
  },
  {
   "cell_type": "code",
   "execution_count": 54,
   "metadata": {},
   "outputs": [
    {
     "name": "stderr",
     "output_type": "stream",
     "text": [
      "`summarise()` regrouping output by 'month' (override with `.groups` argument)\n",
      "\n"
     ]
    },
    {
     "data": {
      "text/html": [
       "<table>\n",
       "<caption>A grouped_df: 365 × 3</caption>\n",
       "<thead>\n",
       "\t<tr><th scope=col>month</th><th scope=col>day</th><th scope=col>delay</th></tr>\n",
       "\t<tr><th scope=col>&lt;int&gt;</th><th scope=col>&lt;int&gt;</th><th scope=col>&lt;dbl&gt;</th></tr>\n",
       "</thead>\n",
       "<tbody>\n",
       "\t<tr><td> 3</td><td> 8</td><td>83.53692</td></tr>\n",
       "\t<tr><td> 7</td><td> 1</td><td>56.23383</td></tr>\n",
       "\t<tr><td> 9</td><td> 2</td><td>53.02955</td></tr>\n",
       "\t<tr><td> 7</td><td>10</td><td>52.86070</td></tr>\n",
       "\t<tr><td>12</td><td> 5</td><td>52.32799</td></tr>\n",
       "\t<tr><td> 5</td><td>23</td><td>51.14472</td></tr>\n",
       "\t<tr><td> 9</td><td>12</td><td>49.95875</td></tr>\n",
       "\t<tr><td> 6</td><td>28</td><td>48.82778</td></tr>\n",
       "\t<tr><td> 6</td><td>24</td><td>47.15742</td></tr>\n",
       "\t<tr><td> 7</td><td>22</td><td>46.66705</td></tr>\n",
       "\t<tr><td> 4</td><td>19</td><td>46.12783</td></tr>\n",
       "\t<tr><td> 6</td><td>13</td><td>45.79083</td></tr>\n",
       "\t<tr><td> 7</td><td>23</td><td>44.74169</td></tr>\n",
       "\t<tr><td> 6</td><td>30</td><td>44.18818</td></tr>\n",
       "\t<tr><td> 8</td><td> 8</td><td>43.34995</td></tr>\n",
       "\t<tr><td> 5</td><td> 8</td><td>43.21778</td></tr>\n",
       "\t<tr><td> 6</td><td>25</td><td>43.06303</td></tr>\n",
       "\t<tr><td> 6</td><td>27</td><td>40.89123</td></tr>\n",
       "\t<tr><td>12</td><td>17</td><td>40.70560</td></tr>\n",
       "\t<tr><td> 8</td><td>28</td><td>40.52689</td></tr>\n",
       "\t<tr><td>10</td><td> 7</td><td>39.14671</td></tr>\n",
       "\t<tr><td> 2</td><td>11</td><td>39.07360</td></tr>\n",
       "\t<tr><td> 2</td><td>27</td><td>37.76327</td></tr>\n",
       "\t<tr><td> 7</td><td>28</td><td>37.71016</td></tr>\n",
       "\t<tr><td> 7</td><td> 8</td><td>37.29665</td></tr>\n",
       "\t<tr><td> 7</td><td> 7</td><td>36.61745</td></tr>\n",
       "\t<tr><td> 6</td><td>18</td><td>35.95077</td></tr>\n",
       "\t<tr><td> 4</td><td>18</td><td>34.91536</td></tr>\n",
       "\t<tr><td> 4</td><td>12</td><td>34.83843</td></tr>\n",
       "\t<tr><td>12</td><td> 9</td><td>34.80022</td></tr>\n",
       "\t<tr><td>⋮</td><td>⋮</td><td>⋮</td></tr>\n",
       "\t<tr><td>11</td><td>16</td><td> 1.69620253</td></tr>\n",
       "\t<tr><td>10</td><td>20</td><td> 1.61092896</td></tr>\n",
       "\t<tr><td> 1</td><td>12</td><td> 1.59649123</td></tr>\n",
       "\t<tr><td> 9</td><td>14</td><td> 1.38888889</td></tr>\n",
       "\t<tr><td>10</td><td>23</td><td> 0.97940268</td></tr>\n",
       "\t<tr><td>10</td><td>21</td><td> 0.95445344</td></tr>\n",
       "\t<tr><td> 9</td><td> 9</td><td> 0.79474216</td></tr>\n",
       "\t<tr><td> 9</td><td>28</td><td> 0.70250368</td></tr>\n",
       "\t<tr><td> 9</td><td> 4</td><td> 0.60233298</td></tr>\n",
       "\t<tr><td>10</td><td>16</td><td> 0.60206186</td></tr>\n",
       "\t<tr><td>11</td><td>15</td><td> 0.58697864</td></tr>\n",
       "\t<tr><td>10</td><td>30</td><td> 0.56553148</td></tr>\n",
       "\t<tr><td> 9</td><td>25</td><td> 0.47412008</td></tr>\n",
       "\t<tr><td>11</td><td> 6</td><td> 0.46376812</td></tr>\n",
       "\t<tr><td>11</td><td>19</td><td> 0.43904959</td></tr>\n",
       "\t<tr><td>11</td><td> 2</td><td> 0.24486804</td></tr>\n",
       "\t<tr><td> 5</td><td>26</td><td> 0.24142661</td></tr>\n",
       "\t<tr><td>11</td><td>29</td><td> 0.14523449</td></tr>\n",
       "\t<tr><td> 1</td><td>15</td><td> 0.12372304</td></tr>\n",
       "\t<tr><td> 9</td><td>17</td><td>-0.09707724</td></tr>\n",
       "\t<tr><td>10</td><td> 1</td><td>-0.09895833</td></tr>\n",
       "\t<tr><td>10</td><td>19</td><td>-0.10703812</td></tr>\n",
       "\t<tr><td>11</td><td> 5</td><td>-0.18314256</td></tr>\n",
       "\t<tr><td> 9</td><td> 7</td><td>-0.25036390</td></tr>\n",
       "\t<tr><td>10</td><td>29</td><td>-0.34932221</td></tr>\n",
       "\t<tr><td> 9</td><td> 5</td><td>-0.38779731</td></tr>\n",
       "\t<tr><td> 9</td><td> 6</td><td>-0.39792746</td></tr>\n",
       "\t<tr><td>11</td><td> 9</td><td>-0.62885154</td></tr>\n",
       "\t<tr><td>10</td><td> 2</td><td>-0.91991786</td></tr>\n",
       "\t<tr><td> 9</td><td>24</td><td>-1.32983193</td></tr>\n",
       "</tbody>\n",
       "</table>\n"
      ],
      "text/latex": [
       "A grouped\\_df: 365 × 3\n",
       "\\begin{tabular}{lll}\n",
       " month & day & delay\\\\\n",
       " <int> & <int> & <dbl>\\\\\n",
       "\\hline\n",
       "\t  3 &  8 & 83.53692\\\\\n",
       "\t  7 &  1 & 56.23383\\\\\n",
       "\t  9 &  2 & 53.02955\\\\\n",
       "\t  7 & 10 & 52.86070\\\\\n",
       "\t 12 &  5 & 52.32799\\\\\n",
       "\t  5 & 23 & 51.14472\\\\\n",
       "\t  9 & 12 & 49.95875\\\\\n",
       "\t  6 & 28 & 48.82778\\\\\n",
       "\t  6 & 24 & 47.15742\\\\\n",
       "\t  7 & 22 & 46.66705\\\\\n",
       "\t  4 & 19 & 46.12783\\\\\n",
       "\t  6 & 13 & 45.79083\\\\\n",
       "\t  7 & 23 & 44.74169\\\\\n",
       "\t  6 & 30 & 44.18818\\\\\n",
       "\t  8 &  8 & 43.34995\\\\\n",
       "\t  5 &  8 & 43.21778\\\\\n",
       "\t  6 & 25 & 43.06303\\\\\n",
       "\t  6 & 27 & 40.89123\\\\\n",
       "\t 12 & 17 & 40.70560\\\\\n",
       "\t  8 & 28 & 40.52689\\\\\n",
       "\t 10 &  7 & 39.14671\\\\\n",
       "\t  2 & 11 & 39.07360\\\\\n",
       "\t  2 & 27 & 37.76327\\\\\n",
       "\t  7 & 28 & 37.71016\\\\\n",
       "\t  7 &  8 & 37.29665\\\\\n",
       "\t  7 &  7 & 36.61745\\\\\n",
       "\t  6 & 18 & 35.95077\\\\\n",
       "\t  4 & 18 & 34.91536\\\\\n",
       "\t  4 & 12 & 34.83843\\\\\n",
       "\t 12 &  9 & 34.80022\\\\\n",
       "\t ⋮ & ⋮ & ⋮\\\\\n",
       "\t 11 & 16 &  1.69620253\\\\\n",
       "\t 10 & 20 &  1.61092896\\\\\n",
       "\t  1 & 12 &  1.59649123\\\\\n",
       "\t  9 & 14 &  1.38888889\\\\\n",
       "\t 10 & 23 &  0.97940268\\\\\n",
       "\t 10 & 21 &  0.95445344\\\\\n",
       "\t  9 &  9 &  0.79474216\\\\\n",
       "\t  9 & 28 &  0.70250368\\\\\n",
       "\t  9 &  4 &  0.60233298\\\\\n",
       "\t 10 & 16 &  0.60206186\\\\\n",
       "\t 11 & 15 &  0.58697864\\\\\n",
       "\t 10 & 30 &  0.56553148\\\\\n",
       "\t  9 & 25 &  0.47412008\\\\\n",
       "\t 11 &  6 &  0.46376812\\\\\n",
       "\t 11 & 19 &  0.43904959\\\\\n",
       "\t 11 &  2 &  0.24486804\\\\\n",
       "\t  5 & 26 &  0.24142661\\\\\n",
       "\t 11 & 29 &  0.14523449\\\\\n",
       "\t  1 & 15 &  0.12372304\\\\\n",
       "\t  9 & 17 & -0.09707724\\\\\n",
       "\t 10 &  1 & -0.09895833\\\\\n",
       "\t 10 & 19 & -0.10703812\\\\\n",
       "\t 11 &  5 & -0.18314256\\\\\n",
       "\t  9 &  7 & -0.25036390\\\\\n",
       "\t 10 & 29 & -0.34932221\\\\\n",
       "\t  9 &  5 & -0.38779731\\\\\n",
       "\t  9 &  6 & -0.39792746\\\\\n",
       "\t 11 &  9 & -0.62885154\\\\\n",
       "\t 10 &  2 & -0.91991786\\\\\n",
       "\t  9 & 24 & -1.32983193\\\\\n",
       "\\end{tabular}\n"
      ],
      "text/markdown": [
       "\n",
       "A grouped_df: 365 × 3\n",
       "\n",
       "| month &lt;int&gt; | day &lt;int&gt; | delay &lt;dbl&gt; |\n",
       "|---|---|---|\n",
       "|  3 |  8 | 83.53692 |\n",
       "|  7 |  1 | 56.23383 |\n",
       "|  9 |  2 | 53.02955 |\n",
       "|  7 | 10 | 52.86070 |\n",
       "| 12 |  5 | 52.32799 |\n",
       "|  5 | 23 | 51.14472 |\n",
       "|  9 | 12 | 49.95875 |\n",
       "|  6 | 28 | 48.82778 |\n",
       "|  6 | 24 | 47.15742 |\n",
       "|  7 | 22 | 46.66705 |\n",
       "|  4 | 19 | 46.12783 |\n",
       "|  6 | 13 | 45.79083 |\n",
       "|  7 | 23 | 44.74169 |\n",
       "|  6 | 30 | 44.18818 |\n",
       "|  8 |  8 | 43.34995 |\n",
       "|  5 |  8 | 43.21778 |\n",
       "|  6 | 25 | 43.06303 |\n",
       "|  6 | 27 | 40.89123 |\n",
       "| 12 | 17 | 40.70560 |\n",
       "|  8 | 28 | 40.52689 |\n",
       "| 10 |  7 | 39.14671 |\n",
       "|  2 | 11 | 39.07360 |\n",
       "|  2 | 27 | 37.76327 |\n",
       "|  7 | 28 | 37.71016 |\n",
       "|  7 |  8 | 37.29665 |\n",
       "|  7 |  7 | 36.61745 |\n",
       "|  6 | 18 | 35.95077 |\n",
       "|  4 | 18 | 34.91536 |\n",
       "|  4 | 12 | 34.83843 |\n",
       "| 12 |  9 | 34.80022 |\n",
       "| ⋮ | ⋮ | ⋮ |\n",
       "| 11 | 16 |  1.69620253 |\n",
       "| 10 | 20 |  1.61092896 |\n",
       "|  1 | 12 |  1.59649123 |\n",
       "|  9 | 14 |  1.38888889 |\n",
       "| 10 | 23 |  0.97940268 |\n",
       "| 10 | 21 |  0.95445344 |\n",
       "|  9 |  9 |  0.79474216 |\n",
       "|  9 | 28 |  0.70250368 |\n",
       "|  9 |  4 |  0.60233298 |\n",
       "| 10 | 16 |  0.60206186 |\n",
       "| 11 | 15 |  0.58697864 |\n",
       "| 10 | 30 |  0.56553148 |\n",
       "|  9 | 25 |  0.47412008 |\n",
       "| 11 |  6 |  0.46376812 |\n",
       "| 11 | 19 |  0.43904959 |\n",
       "| 11 |  2 |  0.24486804 |\n",
       "|  5 | 26 |  0.24142661 |\n",
       "| 11 | 29 |  0.14523449 |\n",
       "|  1 | 15 |  0.12372304 |\n",
       "|  9 | 17 | -0.09707724 |\n",
       "| 10 |  1 | -0.09895833 |\n",
       "| 10 | 19 | -0.10703812 |\n",
       "| 11 |  5 | -0.18314256 |\n",
       "|  9 |  7 | -0.25036390 |\n",
       "| 10 | 29 | -0.34932221 |\n",
       "|  9 |  5 | -0.38779731 |\n",
       "|  9 |  6 | -0.39792746 |\n",
       "| 11 |  9 | -0.62885154 |\n",
       "| 10 |  2 | -0.91991786 |\n",
       "|  9 | 24 | -1.32983193 |\n",
       "\n"
      ],
      "text/plain": [
       "    month day delay      \n",
       "1    3     8  83.53692   \n",
       "2    7     1  56.23383   \n",
       "3    9     2  53.02955   \n",
       "4    7    10  52.86070   \n",
       "5   12     5  52.32799   \n",
       "6    5    23  51.14472   \n",
       "7    9    12  49.95875   \n",
       "8    6    28  48.82778   \n",
       "9    6    24  47.15742   \n",
       "10   7    22  46.66705   \n",
       "11   4    19  46.12783   \n",
       "12   6    13  45.79083   \n",
       "13   7    23  44.74169   \n",
       "14   6    30  44.18818   \n",
       "15   8     8  43.34995   \n",
       "16   5     8  43.21778   \n",
       "17   6    25  43.06303   \n",
       "18   6    27  40.89123   \n",
       "19  12    17  40.70560   \n",
       "20   8    28  40.52689   \n",
       "21  10     7  39.14671   \n",
       "22   2    11  39.07360   \n",
       "23   2    27  37.76327   \n",
       "24   7    28  37.71016   \n",
       "25   7     8  37.29665   \n",
       "26   7     7  36.61745   \n",
       "27   6    18  35.95077   \n",
       "28   4    18  34.91536   \n",
       "29   4    12  34.83843   \n",
       "30  12     9  34.80022   \n",
       "⋮   ⋮     ⋮   ⋮          \n",
       "336 11    16   1.69620253\n",
       "337 10    20   1.61092896\n",
       "338  1    12   1.59649123\n",
       "339  9    14   1.38888889\n",
       "340 10    23   0.97940268\n",
       "341 10    21   0.95445344\n",
       "342  9     9   0.79474216\n",
       "343  9    28   0.70250368\n",
       "344  9     4   0.60233298\n",
       "345 10    16   0.60206186\n",
       "346 11    15   0.58697864\n",
       "347 10    30   0.56553148\n",
       "348  9    25   0.47412008\n",
       "349 11     6   0.46376812\n",
       "350 11    19   0.43904959\n",
       "351 11     2   0.24486804\n",
       "352  5    26   0.24142661\n",
       "353 11    29   0.14523449\n",
       "354  1    15   0.12372304\n",
       "355  9    17  -0.09707724\n",
       "356 10     1  -0.09895833\n",
       "357 10    19  -0.10703812\n",
       "358 11     5  -0.18314256\n",
       "359  9     7  -0.25036390\n",
       "360 10    29  -0.34932221\n",
       "361  9     5  -0.38779731\n",
       "362  9     6  -0.39792746\n",
       "363 11     9  -0.62885154\n",
       "364 10     2  -0.91991786\n",
       "365  9    24  -1.32983193"
      ]
     },
     "metadata": {},
     "output_type": "display_data"
    }
   ],
   "source": [
    "flights%>%group_by(month,day)%>%summarise(delay=mean(dep_delay,na.rm=TRUE))%>%arrange(desc(delay))"
   ]
  },
  {
   "cell_type": "markdown",
   "metadata": {},
   "source": [
    "## Visualización en R"
   ]
  },
  {
   "cell_type": "code",
   "execution_count": null,
   "metadata": {},
   "outputs": [],
   "source": []
  }
 ],
 "metadata": {
  "kernelspec": {
   "display_name": "R",
   "language": "R",
   "name": "ir"
  },
  "language_info": {
   "codemirror_mode": "r",
   "file_extension": ".r",
   "mimetype": "text/x-r-source",
   "name": "R",
   "pygments_lexer": "r",
   "version": "3.6.3"
  }
 },
 "nbformat": 4,
 "nbformat_minor": 4
}
